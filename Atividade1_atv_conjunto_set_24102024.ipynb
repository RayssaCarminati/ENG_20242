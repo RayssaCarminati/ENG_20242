{
  "nbformat": 4,
  "nbformat_minor": 0,
  "metadata": {
    "colab": {
      "provenance": [],
      "authorship_tag": "ABX9TyMViXzalvV9EoPxjR8YpDJZ",
      "include_colab_link": true
    },
    "kernelspec": {
      "name": "python3",
      "display_name": "Python 3"
    },
    "language_info": {
      "name": "python"
    }
  },
  "cells": [
    {
      "cell_type": "markdown",
      "metadata": {
        "id": "view-in-github",
        "colab_type": "text"
      },
      "source": [
        "<a href=\"https://colab.research.google.com/github/RayssaCarminati/ENG_20242/blob/main/Atividade1_atv_conjunto_set_24102024.ipynb\" target=\"_parent\"><img src=\"https://colab.research.google.com/assets/colab-badge.svg\" alt=\"Open In Colab\"/></a>"
      ]
    },
    {
      "cell_type": "code",
      "execution_count": null,
      "metadata": {
        "colab": {
          "base_uri": "https://localhost:8080/"
        },
        "id": "gwOEj_USEsyO",
        "outputId": "1ee5e179-6285-44f1-b80d-d86699c29d5c"
      },
      "outputs": [
        {
          "output_type": "stream",
          "name": "stdout",
          "text": [
            "2\n",
            "4\n",
            "6\n",
            "8\n",
            "10\n",
            "12\n"
          ]
        }
      ],
      "source": [
        "#1. Crie uma lista contendo cinco números inteiros de sua escolha. Em seguida, percorra essa lista e imprima o valor de cada elemento multiplicado por 2. O resultado deve mostrar o novo valor de cada elemento, um por vez.\n",
        "inteiros=[1,2,3,4,5,6]\n",
        "for numero in inteiros:\n",
        "  dobro= numero * 2\n",
        "  print(dobro)"
      ]
    },
    {
      "cell_type": "code",
      "source": [
        "#2. Dada a lista [\"maçã\", \"banana\", \"laranja\", \"uva\"], remova o item \"banana\" da lista e adicione a fruta \"melancia\" no lugar. Depois, mostre a nova lista atualizada com as alterações feitas.\n",
        "fruta=[\"maçã\",\"banana\",\"laranja\",\"uva\"]\n",
        "fruta[fruta.index('banana')]= 'melancia'\n",
        "print(fruta)"
      ],
      "metadata": {
        "colab": {
          "base_uri": "https://localhost:8080/"
        },
        "id": "QmEVVR7xGLsX",
        "outputId": "09d61af0-2ac0-466a-f027-d1b2c8fb1789"
      },
      "execution_count": 7,
      "outputs": [
        {
          "output_type": "stream",
          "name": "stdout",
          "text": [
            "['maçã', 'melancia', 'laranja', 'uva']\n"
          ]
        }
      ]
    },
    {
      "cell_type": "code",
      "source": [
        "#3. Escreva um programa que receba uma lista de números inteiros e exiba qual é o maior número e qual é o menor número presente na lista. Certifique-se de mostrar ambos os valores ao final.\n",
        "numeros=[10, 5, 8, -5, 4]\n",
        "maior=max(numeros)\n",
        "menor=min(numeros)\n",
        "print(f\"O maior numero da listas é: {maior} e o menor numeor da lista é {menor}\")\n"
      ],
      "metadata": {
        "colab": {
          "base_uri": "https://localhost:8080/"
        },
        "id": "LdvvtKM0HzZL",
        "outputId": "b90d80e6-c953-4b7c-eb2f-55c7fed518fb"
      },
      "execution_count": null,
      "outputs": [
        {
          "output_type": "stream",
          "name": "stdout",
          "text": [
            "O maior numero da listas é: 10 e o menor numeor da lista é -5\n"
          ]
        }
      ]
    },
    {
      "cell_type": "code",
      "source": [
        "#4. Crie uma função que receba uma lista contendo várias palavras (strings). A função deve devolver uma nova lista que contenha a quantidade de letras de cada palavra da lista original. Exiba essa nova lista com o número de letras correspondente a cada palavra.\n",
        "palavras=[\"banana\",\"uva\",\"maça\",\"pera\"]\n",
        "lista=[]\n",
        "for palavra in palavras:\n",
        "  lista.append(len(palavra))\n",
        "  print(lista)\n"
      ],
      "metadata": {
        "colab": {
          "base_uri": "https://localhost:8080/"
        },
        "id": "YVjAZsumJxCz",
        "outputId": "677e4d9f-ff00-45cf-adc5-281726524752"
      },
      "execution_count": null,
      "outputs": [
        {
          "output_type": "stream",
          "name": "stdout",
          "text": [
            "[6]\n",
            "[6, 3]\n",
            "[6, 3, 4]\n",
            "[6, 3, 4, 4]\n"
          ]
        }
      ]
    },
    {
      "cell_type": "code",
      "source": [
        "#5. Dada uma lista de números inteiros que você vai definir, ordene essa lista em ordem crescente e depois exiba o resultado da lista ordenada.\n",
        "num=[10,5,6,4,8]\n",
        "num.sort()\n",
        "print(num)"
      ],
      "metadata": {
        "colab": {
          "base_uri": "https://localhost:8080/"
        },
        "id": "86B47enXM_yx",
        "outputId": "6aec5b4a-c2ab-4a97-8a62-6dbbd566ae5a"
      },
      "execution_count": null,
      "outputs": [
        {
          "output_type": "stream",
          "name": "stdout",
          "text": [
            "[4, 5, 6, 8, 10]\n"
          ]
        }
      ]
    },
    {
      "cell_type": "code",
      "source": [
        "#6. Crie uma tupla que contenha os números de 1 a 5. Tente alterar o valor do segundo elemento dessa tupla e observe o que acontece. No final, explique por que você conseguiu ou não modificar o valor.\n",
        "tupla=(1,2,3,4,5)\n",
        "tupla[1]=15\n",
        "print(tupla) #deu erro pois a tupla é imutavel, seu valor não pode ser alterado!\n"
      ],
      "metadata": {
        "colab": {
          "base_uri": "https://localhost:8080/",
          "height": 211
        },
        "id": "1NGLNj5yNewM",
        "outputId": "7f20c26d-b236-460b-d133-c85e7d0d8448"
      },
      "execution_count": null,
      "outputs": [
        {
          "output_type": "error",
          "ename": "TypeError",
          "evalue": "'tuple' object does not support item assignment",
          "traceback": [
            "\u001b[0;31m---------------------------------------------------------------------------\u001b[0m",
            "\u001b[0;31mTypeError\u001b[0m                                 Traceback (most recent call last)",
            "\u001b[0;32m<ipython-input-19-c00c6d5204d6>\u001b[0m in \u001b[0;36m<cell line: 3>\u001b[0;34m()\u001b[0m\n\u001b[1;32m      1\u001b[0m \u001b[0;31m#6. Crie uma tupla que contenha os números de 1 a 5. Tente alterar o valor do segundo elemento dessa tupla e observe o que acontece. No final, explique por que você conseguiu ou não modificar o valor.\u001b[0m\u001b[0;34m\u001b[0m\u001b[0;34m\u001b[0m\u001b[0m\n\u001b[1;32m      2\u001b[0m \u001b[0mtupla\u001b[0m\u001b[0;34m=\u001b[0m\u001b[0;34m(\u001b[0m\u001b[0;36m1\u001b[0m\u001b[0;34m,\u001b[0m\u001b[0;36m2\u001b[0m\u001b[0;34m,\u001b[0m\u001b[0;36m3\u001b[0m\u001b[0;34m,\u001b[0m\u001b[0;36m4\u001b[0m\u001b[0;34m,\u001b[0m\u001b[0;36m5\u001b[0m\u001b[0;34m)\u001b[0m\u001b[0;34m\u001b[0m\u001b[0;34m\u001b[0m\u001b[0m\n\u001b[0;32m----> 3\u001b[0;31m \u001b[0mtupla\u001b[0m\u001b[0;34m[\u001b[0m\u001b[0;36m1\u001b[0m\u001b[0;34m]\u001b[0m\u001b[0;34m=\u001b[0m\u001b[0;36m15\u001b[0m\u001b[0;34m\u001b[0m\u001b[0;34m\u001b[0m\u001b[0m\n\u001b[0m\u001b[1;32m      4\u001b[0m \u001b[0mprint\u001b[0m\u001b[0;34m(\u001b[0m\u001b[0mtupla\u001b[0m\u001b[0;34m)\u001b[0m \u001b[0;31m#deu erro pois a tupla é imutavel, seu valor não pode ser alterado!\u001b[0m\u001b[0;34m\u001b[0m\u001b[0;34m\u001b[0m\u001b[0m\n",
            "\u001b[0;31mTypeError\u001b[0m: 'tuple' object does not support item assignment"
          ]
        }
      ]
    },
    {
      "cell_type": "code",
      "source": [
        "#7. Escreva um programa que receba uma tupla contendo diversos números inteiros. O programa deve calcular e exibir a soma de todos os números presentes na tupla.\n",
        "tupla=(1,2,3,4,5)\n",
        "soma=sum(tupla)\n",
        "print(soma)"
      ],
      "metadata": {
        "colab": {
          "base_uri": "https://localhost:8080/"
        },
        "id": "0N232il4PHa7",
        "outputId": "1709331e-6cb6-4a7c-ab23-8bf6718bd4a1"
      },
      "execution_count": null,
      "outputs": [
        {
          "output_type": "stream",
          "name": "stdout",
          "text": [
            "15\n"
          ]
        }
      ]
    },
    {
      "cell_type": "code",
      "source": [
        "#8. Dada uma tupla que contém cinco números, crie uma função que retorne o primeiro e o último número dessa tupla. O programa deve imprimir ambos os valores corretamente.\n",
        "minha_tupla=(1,5,8,7,6)\n",
        "primeiro=minha_tupla[0]\n",
        "ultimo=minha_tupla[-1]\n",
        "print(f\"O primeiro é: {primeiro} e o ultimo é {ultimo}\")\n"
      ],
      "metadata": {
        "colab": {
          "base_uri": "https://localhost:8080/"
        },
        "id": "SwGM7qXwQe-T",
        "outputId": "11139c29-64cc-406e-eeb6-feb861dc39c5"
      },
      "execution_count": null,
      "outputs": [
        {
          "output_type": "stream",
          "name": "stdout",
          "text": [
            "O primeiro é: 1 e o ultimo é 6\n"
          ]
        }
      ]
    },
    {
      "cell_type": "code",
      "source": [
        "#9. Converta a lista [\"a\", \"b\", \"c\", \"d\"] em uma tupla e, em seguida, exiba o tipo do novo objeto que foi criado. O programa deve deixar claro que o tipo mudou de lista para tupla.\n",
        "lista=[\"a\",\"b\",\"c\",\"d\"]\n",
        "tupla=tuple(lista)\n",
        "print(tupla)"
      ],
      "metadata": {
        "colab": {
          "base_uri": "https://localhost:8080/"
        },
        "id": "Oz-CHvLNRL96",
        "outputId": "f833e05a-6d62-4c7d-f115-37c445d28165"
      },
      "execution_count": 10,
      "outputs": [
        {
          "output_type": "stream",
          "name": "stdout",
          "text": [
            "('a', 'b', 'c', 'd')\n"
          ]
        }
      ]
    },
    {
      "cell_type": "code",
      "source": [
        "#10. Crie uma tupla com três números inteiros e uma string. Depois, verifique se o número 3 está presente nessa tupla e mostre uma mensagem dizendo se o número foi encontrado ou não.\n",
        "tupli=(3,5,8,\"kiwi\")\n",
        "if 3 in tupli:\n",
        "  print(f\"O numero 3 está presente\")\n",
        "else:\n",
        "  print(f\"O numero 3 não está presente\")"
      ],
      "metadata": {
        "colab": {
          "base_uri": "https://localhost:8080/"
        },
        "id": "HM1SF0CPR18n",
        "outputId": "bcd423c0-74f4-446a-b650-cd863cf04a82"
      },
      "execution_count": null,
      "outputs": [
        {
          "output_type": "stream",
          "name": "stdout",
          "text": [
            "O numero 3 está presente\n"
          ]
        }
      ]
    },
    {
      "cell_type": "code",
      "source": [
        "#11. Crie dois sets: set1 = {1, 2, 3, 4} e set2 = {3, 4, 5, 6}. Exiba a união dos dois sets (todos os elementos sem repetição), a interseção (elementos que aparecem nos dois sets) e a diferença (elementos presentes no primeiro set, mas não no segundo). Mostre os resultados de cada operação.\n",
        "set1={1,2,3,4}\n",
        "set2={3,4,5,6}\n",
        "união=set1.union(set2)\n",
        "intersec=set1.intersection(set2)\n",
        "dif=set1.difference(set2)\n",
        "print(f\"A união corresponde a: {união}, a interseção entre eles é: {intersec} e a diferença: {dif}\")"
      ],
      "metadata": {
        "colab": {
          "base_uri": "https://localhost:8080/"
        },
        "id": "MpmZ6k_VS4cc",
        "outputId": "39ee5771-cba4-4607-d71c-a42c62a7d9a4"
      },
      "execution_count": null,
      "outputs": [
        {
          "output_type": "stream",
          "name": "stdout",
          "text": [
            "A união corresponde a: {1, 2, 3, 4, 5, 6}, a interseção entre eles é: {3, 4} e a diferença: {1, 2}\n"
          ]
        }
      ]
    },
    {
      "cell_type": "code",
      "source": [
        "#12. Dada a lista [1, 2, 2, 3, 4, 4, 5], remova os elementos duplicados transformando a lista em um set. Ao final, exiba o set resultante, que deve conter apenas valores únicos.\n",
        "lista=[1,2,2,3,4,4,5]\n",
        "conjunto=set(lista)\n",
        "print(conjunto)\n"
      ],
      "metadata": {
        "id": "_NbmcQJDT9Eh",
        "colab": {
          "base_uri": "https://localhost:8080/"
        },
        "outputId": "cea3b7d9-6676-4d37-c587-3583dcd7b316"
      },
      "execution_count": 1,
      "outputs": [
        {
          "output_type": "stream",
          "name": "stdout",
          "text": [
            "{1, 2, 3, 4, 5}\n"
          ]
        }
      ]
    },
    {
      "cell_type": "code",
      "source": [
        "#13. Crie um set contendo os valores {5, 10, 15, 20}. Adicione o número 25 a esse set e depois remova o valor 15. Mostre o set após cada alteração.\n",
        "conjunto={5,10,15,20}\n",
        "conjunto.add(25)\n",
        "conjunto.remove(15)\n",
        "print(conjunto)\n"
      ],
      "metadata": {
        "colab": {
          "base_uri": "https://localhost:8080/"
        },
        "id": "-usf6kDispQC",
        "outputId": "607751b4-4bb2-4a92-fe67-a41d353a20d3"
      },
      "execution_count": 8,
      "outputs": [
        {
          "output_type": "stream",
          "name": "stdout",
          "text": [
            "{5, 10, 20, 25}\n"
          ]
        }
      ]
    },
    {
      "cell_type": "code",
      "source": [
        "#14. Verifique se o número 7 está presente no set {1, 2, 3, 4, 5}. O programa deve exibir uma mensagem informando se o número foi encontrado ou não no set.\n",
        "conjunto={1,2,3,4,5}\n",
        "if 7 in conjunto:\n",
        "  print(f\"O numero 7 está presente!\")\n",
        "else:\n",
        "  print(f\"O numero 7 não está presente!\")"
      ],
      "metadata": {
        "colab": {
          "base_uri": "https://localhost:8080/"
        },
        "id": "7N7UzWLnuuns",
        "outputId": "ee8af0aa-7aa8-4791-9d5c-399778e35900"
      },
      "execution_count": 9,
      "outputs": [
        {
          "output_type": "stream",
          "name": "stdout",
          "text": [
            "O numero 7 não está presente!\n"
          ]
        }
      ]
    },
    {
      "cell_type": "code",
      "source": [
        "#15. Crie um set vazio e adicione vários valores a ele usando um laço de repetição (por exemplo, um for ou while). No final, mostre todos os valores armazenados no set.\n",
        "meuset=set()\n",
        "for numero in range(1, 11):\n",
        "  meuset.add(numero)\n",
        "print(meuset)"
      ],
      "metadata": {
        "colab": {
          "base_uri": "https://localhost:8080/"
        },
        "id": "B2b6y7lzvrWE",
        "outputId": "f5891a93-f96f-4d09-8aa4-2c32b8152c73"
      },
      "execution_count": 12,
      "outputs": [
        {
          "output_type": "stream",
          "name": "stdout",
          "text": [
            "{1, 2, 3, 4, 5, 6, 7, 8, 9, 10}\n"
          ]
        }
      ]
    },
    {
      "cell_type": "code",
      "source": [
        "#16. Crie um dicionário com os pares chave-valor 'nome': 'Ana', 'idade': 22, 'curso': 'Engenharia'. Adicione uma nova chave 'universidade': 'USP' ao dicionário. Em seguida, exiba o dicionário completo com todas as informações.\n",
        "dicio={'nome': 'Ana', 'idade': 22, 'curso': 'Engenharia'}\n",
        "dicio['universidade'] = 'USP'\n",
        "print(dicio)"
      ],
      "metadata": {
        "colab": {
          "base_uri": "https://localhost:8080/"
        },
        "id": "Tg1Oob0FxTsH",
        "outputId": "0f9ca23e-7753-4e15-b539-e28e1864787a"
      },
      "execution_count": 13,
      "outputs": [
        {
          "output_type": "stream",
          "name": "stdout",
          "text": [
            "{'nome': 'Ana', 'idade': 22, 'curso': 'Engenharia', 'universidade': 'USP'}\n"
          ]
        }
      ]
    },
    {
      "cell_type": "code",
      "source": [
        "#17. Escreva um programa que percorra um dicionário com várias chaves e valores. Para cada par, imprima a chave e o valor no formato: Chave: X, Valor: Y. O dicionário pode conter qualquer informação que você preferir.\n",
        "pessoa={'nome': 'Ana', 'idade': 22, 'curso': 'Engenharia'},{'nome': 'Ana', 'idade': 22, 'curso': 'Engenharia'},{'nome': 'Ana', 'idade': 22, 'curso': 'Engenharia'}\n",
        "for i in pessoa:\n",
        "    print(f'{i}: {alunos[i]}')"
      ],
      "metadata": {
        "colab": {
          "base_uri": "https://localhost:8080/",
          "height": 193
        },
        "id": "1KtF5k8H2Kqh",
        "outputId": "f3d8653c-0aad-422e-f418-8c9afc66efdc"
      },
      "execution_count": 24,
      "outputs": [
        {
          "output_type": "error",
          "ename": "TypeError",
          "evalue": "unhashable type: 'dict'",
          "traceback": [
            "\u001b[0;31m---------------------------------------------------------------------------\u001b[0m",
            "\u001b[0;31mTypeError\u001b[0m                                 Traceback (most recent call last)",
            "\u001b[0;32m<ipython-input-24-925a5106fe9e>\u001b[0m in \u001b[0;36m<cell line: 3>\u001b[0;34m()\u001b[0m\n\u001b[1;32m      2\u001b[0m \u001b[0mpessoa\u001b[0m\u001b[0;34m=\u001b[0m\u001b[0;34m{\u001b[0m\u001b[0;34m'nome'\u001b[0m\u001b[0;34m:\u001b[0m \u001b[0;34m'Ana'\u001b[0m\u001b[0;34m,\u001b[0m \u001b[0;34m'idade'\u001b[0m\u001b[0;34m:\u001b[0m \u001b[0;36m22\u001b[0m\u001b[0;34m,\u001b[0m \u001b[0;34m'curso'\u001b[0m\u001b[0;34m:\u001b[0m \u001b[0;34m'Engenharia'\u001b[0m\u001b[0;34m}\u001b[0m\u001b[0;34m,\u001b[0m\u001b[0;34m{\u001b[0m\u001b[0;34m'nome'\u001b[0m\u001b[0;34m:\u001b[0m \u001b[0;34m'Ana'\u001b[0m\u001b[0;34m,\u001b[0m \u001b[0;34m'idade'\u001b[0m\u001b[0;34m:\u001b[0m \u001b[0;36m22\u001b[0m\u001b[0;34m,\u001b[0m \u001b[0;34m'curso'\u001b[0m\u001b[0;34m:\u001b[0m \u001b[0;34m'Engenharia'\u001b[0m\u001b[0;34m}\u001b[0m\u001b[0;34m,\u001b[0m\u001b[0;34m{\u001b[0m\u001b[0;34m'nome'\u001b[0m\u001b[0;34m:\u001b[0m \u001b[0;34m'Ana'\u001b[0m\u001b[0;34m,\u001b[0m \u001b[0;34m'idade'\u001b[0m\u001b[0;34m:\u001b[0m \u001b[0;36m22\u001b[0m\u001b[0;34m,\u001b[0m \u001b[0;34m'curso'\u001b[0m\u001b[0;34m:\u001b[0m \u001b[0;34m'Engenharia'\u001b[0m\u001b[0;34m}\u001b[0m\u001b[0;34m\u001b[0m\u001b[0;34m\u001b[0m\u001b[0m\n\u001b[1;32m      3\u001b[0m \u001b[0;32mfor\u001b[0m \u001b[0mi\u001b[0m \u001b[0;32min\u001b[0m \u001b[0mpessoa\u001b[0m\u001b[0;34m:\u001b[0m\u001b[0;34m\u001b[0m\u001b[0;34m\u001b[0m\u001b[0m\n\u001b[0;32m----> 4\u001b[0;31m     \u001b[0mprint\u001b[0m\u001b[0;34m(\u001b[0m\u001b[0;34mf'{i}: {alunos[i]}'\u001b[0m\u001b[0;34m)\u001b[0m\u001b[0;34m\u001b[0m\u001b[0;34m\u001b[0m\u001b[0m\n\u001b[0m",
            "\u001b[0;31mTypeError\u001b[0m: unhashable type: 'dict'"
          ]
        }
      ]
    },
    {
      "cell_type": "code",
      "source": [
        "#18. Crie um dicionário que relacione nomes de alunos às suas notas. Depois, crie uma função que calcule e exiba a média das notas desses alunos com base nas informações do dicionário\n",
        "alunos={'joao':[10,8,7,6],'maria':[7,8,7,9]}\n",
        "for i in alunos:\n",
        "  print(i,sum(alunos[i])/len(alunos[i]))"
      ],
      "metadata": {
        "colab": {
          "base_uri": "https://localhost:8080/"
        },
        "id": "ExV89fjP2T_w",
        "outputId": "0c556927-e929-49af-c558-e834ca3acce8"
      },
      "execution_count": 22,
      "outputs": [
        {
          "output_type": "stream",
          "name": "stdout",
          "text": [
            "joao 7.75\n",
            "maria 7.75\n"
          ]
        }
      ]
    },
    {
      "cell_type": "code",
      "source": [
        "#19. Escreva um programa que permita ao usuário buscar o valor de uma chave específica em um dicionário. Caso a chave não exista, o programa deve exibir uma mensagem dizendo que a chave não foi encontrada. Teste o programa com diferentes chaves.\n",
        "alunos={'joao':[10,8,7,6],'maria':[7,8,7,9]}\n",
        "busca=input(\"Digite o nome:\")\n",
        "if busca in alunos:\n",
        "  print(busca,alunos[busca])\n",
        "else:\n",
        "  print(\"Aluno não encontrado\")"
      ],
      "metadata": {
        "colab": {
          "base_uri": "https://localhost:8080/"
        },
        "id": "yb0G-tD02VUv",
        "outputId": "db2f4d49-bbf9-4d47-a2fa-a139fccb1051"
      },
      "execution_count": 19,
      "outputs": [
        {
          "output_type": "stream",
          "name": "stdout",
          "text": [
            "Digite o nome:rafa\n",
            "Aluno não encontrado\n"
          ]
        }
      ]
    },
    {
      "cell_type": "code",
      "source": [
        "#20. Dado um dicionário que contém produtos e seus respectivos preços, como {'pão': 2.50, 'leite': 3.00, 'café': 4.50}, permita que o usuário altere o preço de um dos produtos e exiba o dicionário atualizado com o novo valor.\n",
        "itens={'pão': 2.50, 'leite': 3.00, 'café': 4.50}\n",
        "for i in itens:\n",
        "  print(i)\n",
        "alteração = input(\"Qual quer alterar?\")\n",
        "novopreç=float(input(\"Novo preço?\"))\n",
        "itens[alteração] = novopreç\n",
        "print(itens\n",
        "      )"
      ],
      "metadata": {
        "colab": {
          "base_uri": "https://localhost:8080/"
        },
        "id": "of4q4D0E2Wng",
        "outputId": "a810efe7-75a3-47d0-b89c-c207e67b2310"
      },
      "execution_count": 20,
      "outputs": [
        {
          "output_type": "stream",
          "name": "stdout",
          "text": [
            "pão\n",
            "leite\n",
            "café\n",
            "Qual quer alterar?pao\n",
            "Novo preço?6\n",
            "{'pão': 2.5, 'leite': 3.0, 'café': 4.5, 'pao': 6.0}\n"
          ]
        }
      ]
    }
  ]
}