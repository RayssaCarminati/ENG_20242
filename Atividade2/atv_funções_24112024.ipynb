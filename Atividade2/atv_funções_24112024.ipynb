{
  "nbformat": 4,
  "nbformat_minor": 0,
  "metadata": {
    "colab": {
      "provenance": [],
      "authorship_tag": "ABX9TyPgOPqEFFcTsXA6CQJ1TyPH",
      "include_colab_link": true
    },
    "kernelspec": {
      "name": "python3",
      "display_name": "Python 3"
    },
    "language_info": {
      "name": "python"
    }
  },
  "cells": [
    {
      "cell_type": "markdown",
      "metadata": {
        "id": "view-in-github",
        "colab_type": "text"
      },
      "source": [
        "<a href=\"https://colab.research.google.com/github/RayssaCarminati/ENG_20242/blob/main/Atividade2/atv_fun%C3%A7%C3%B5es_24112024.ipynb\" target=\"_parent\"><img src=\"https://colab.research.google.com/assets/colab-badge.svg\" alt=\"Open In Colab\"/></a>"
      ]
    },
    {
      "cell_type": "code",
      "execution_count": 5,
      "metadata": {
        "id": "PCc6Zuhv1NlB"
      },
      "outputs": [],
      "source": [
        "#1. Crie uma função que receba uma lista de números e retorne uma lista contendo apenas os números ímpares.\n",
        "def numeros_impares(lista):\n",
        "  return [num for num in lista if num % 2 != 0]\n",
        "#2. Escreva uma função que receba uma lista e retorne uma nova lista com o dobro de cada elemento.\n",
        "def dobro(lista):\n",
        "  return [x * 2 for x in lista]\n",
        "#3. Faça uma função que receba uma lista e retorne uma lista sem duplicatas.\n",
        "def sem_duplicatas(lista):\n",
        "  return list(set(lista))\n",
        "#4. Crie uma função que receba uma lista e um valor divisor e retorne uma lista dos elementos que são divisíveis pelo divisor.\n",
        "def divisiveis_por(lista, divisor):\n",
        "  return [ele for ele in lista if ele % divisor == 0]\n",
        "#5. Escreva uma função que receba duas listas e retorne um conjunto com os elementos que aparecem em ambas.\n",
        "def elementos_em_ambas(lista1, lista2):\n",
        "  return set(lista1).intersection(lista2)\n",
        "#6. Crie uma função que receba uma lista e retorne uma nova lista com os elementos em ordem inversa.\n",
        "def inversa(lista):\n",
        "  return lista[::-1]\n",
        "#7. Escreva uma função que receba uma lista de números e retorne uma lista contendo o quadrado de cada número.\n",
        "def quadrados(lista):\n",
        "  return [x**2 for x in lista]\n",
        "#8. Crie uma função que receba uma lista e um valor, e retorne uma lista com os elementos maiores que esse valor.\n",
        "def maiores_que(lista, valor):\n",
        "  return [x for x in lista if x > valor]\n",
        "#9. Escreva uma função que receba duas listas e retorne uma lista dos elementos que estão em apenas uma das listas.\n",
        "def em_uma_das_listas(lista1, lista2):\n",
        "  return list(set(lista1).symmetric_difference(lista2))\n",
        "#10. Faça uma função que receba uma lista e retorne um conjunto dos elementos únicos.\n",
        "def elementos_unicos(lista):\n",
        "  return set(lista)\n",
        "#11. Crie uma função que receba duas listas e retorne uma lista dos elementos únicos que estão em ambas.\n",
        "def elementos_unicos_em_ambas(lista1, lista2):\n",
        "  return list(set(lista1).intersection(set(lista2)))\n",
        "#12. Escreva uma função que receba uma lista e retorne uma lista contendo os elementos que aparecem mais de uma vez.\n",
        "def repete(lista):\n",
        "  return [x for x in lista if lista.count(x) > 1]\n",
        "#13. Faça uma função que receba uma lista de números e retorne uma lista dos números pares.\n",
        "def numeros_pares(lista):\n",
        "  return [x for x in lista if x % 2 == 0]\n",
        "#14. Escreva uma função que receba uma lista de números e um valor, e retorne uma lista com os índices dos elementos maiores que o valor.\n",
        "def indices_maiores_que(lista, valor):\n",
        "  return [i for i, x in enumerate(lista) if x > valor]\n",
        "#15. Crie uma função que receba uma lista de strings e retorne uma lista com o tamanho de cada string.\n",
        "def tamanhos_strings(lista):\n",
        "  return [len(x) for x in lista]\n",
        "#16. Escreva uma função que receba uma lista de números e retorne uma lista contendo cada número elevado ao cubo.\n",
        "def cubos(lista):\n",
        "  return [x**3 for x in lista]\n",
        "#17. Crie uma função que receba uma lista e retorne uma lista de todos os elementos únicos.\n",
        "def elementos_unicos(lista):\n",
        "  return list(set(lista))\n",
        "#18. Escreva uma função que receba uma lista de strings e retorne uma lista contendo as strings que começam com uma letra maiúscula.\n",
        "def maiusculas(lista):\n",
        "  return [x for x in lista if x[0].isupper()]\n",
        "#19. Faça uma função que receba uma lista de números e retorne uma lista contendo apenas os múltiplos de 3.\n",
        "def multiplos_de_3(lista):\n",
        "  return [x for x in lista if x % 3 == 0]\n",
        "#20. Escreva uma função que receba duas listas e retorne uma lista com a interseção ordenada de forma crescente entre elas.\n",
        "def intersecao_ordenada(lista1, lista2):\n",
        "  return sorted(list(set(lista1).intersection(lista2)))"
      ]
    },
    {
      "cell_type": "code",
      "source": [
        "#1\n",
        "lista = [1, 2, 3, 4, 5, 6, 7, 8, 9, 10]\n",
        "impares = numeros_impares(lista)\n",
        "print(impares)"
      ],
      "metadata": {
        "colab": {
          "base_uri": "https://localhost:8080/"
        },
        "id": "Ljh5ix8t2MI3",
        "outputId": "fbaaa937-7798-4bfc-a346-0df9e10176cc"
      },
      "execution_count": 6,
      "outputs": [
        {
          "output_type": "stream",
          "name": "stdout",
          "text": [
            "[1, 3, 5, 7, 9]\n"
          ]
        }
      ]
    },
    {
      "cell_type": "code",
      "source": [
        "#2\n",
        "lista = [1, 2, 3, 4, 5]\n",
        "dobro_lista = dobro(lista)\n",
        "print(dobro_lista)"
      ],
      "metadata": {
        "colab": {
          "base_uri": "https://localhost:8080/"
        },
        "id": "C_1uuZZi95p5",
        "outputId": "9f920c75-165c-4646-e086-9b42da6ffea3"
      },
      "execution_count": 7,
      "outputs": [
        {
          "output_type": "stream",
          "name": "stdout",
          "text": [
            "[2, 4, 6, 8, 10]\n"
          ]
        }
      ]
    },
    {
      "cell_type": "code",
      "source": [
        "#3\n",
        "lista = [1, 2, 2, 3, 4, 4, 5]\n",
        "sem_duplicatas_lista = sem_duplicatas(lista)\n",
        "print(sem_duplicatas_lista)"
      ],
      "metadata": {
        "colab": {
          "base_uri": "https://localhost:8080/"
        },
        "id": "o7LmnvKA-HFJ",
        "outputId": "da797a08-602e-42e1-8627-35b51fcb9e7a"
      },
      "execution_count": 8,
      "outputs": [
        {
          "output_type": "stream",
          "name": "stdout",
          "text": [
            "[1, 2, 3, 4, 5]\n"
          ]
        }
      ]
    },
    {
      "cell_type": "code",
      "source": [
        "#4\n",
        "lista = [1, 2, 3, 4, 5, 6, 7, 8, 9, 10]\n",
        "divisiveis_por_3 = divisiveis_por(lista, 3)\n",
        "print(divisiveis_por_3)"
      ],
      "metadata": {
        "colab": {
          "base_uri": "https://localhost:8080/"
        },
        "id": "Kj71NUYm-J9x",
        "outputId": "6b343735-fad0-40d1-de01-c2000f06c105"
      },
      "execution_count": 9,
      "outputs": [
        {
          "output_type": "stream",
          "name": "stdout",
          "text": [
            "[3, 6, 9]\n"
          ]
        }
      ]
    },
    {
      "cell_type": "code",
      "source": [
        "#5\n",
        "lista1 = [1, 2, 3, 4, 5]\n",
        "lista2 = [3, 4, 5, 6, 7]\n",
        "elementos_em_ambas_listas = elementos_em_ambas(lista1, lista2)\n",
        "print(elementos_em_ambas_listas)"
      ],
      "metadata": {
        "colab": {
          "base_uri": "https://localhost:8080/"
        },
        "id": "RbYcdkom-NJb",
        "outputId": "5ae5e5b6-0598-4032-a42c-d7e0803f915a"
      },
      "execution_count": 10,
      "outputs": [
        {
          "output_type": "stream",
          "name": "stdout",
          "text": [
            "{3, 4, 5}\n"
          ]
        }
      ]
    },
    {
      "cell_type": "code",
      "source": [
        "#6\n",
        "lista = [1, 2, 3, 4, 5]\n",
        "inversa_lista = inversa(lista)\n",
        "print(inversa_lista)"
      ],
      "metadata": {
        "colab": {
          "base_uri": "https://localhost:8080/"
        },
        "id": "JNSdPXc_-Ufd",
        "outputId": "922c702a-fb06-435c-b73f-c4dbeba5ce8d"
      },
      "execution_count": 11,
      "outputs": [
        {
          "output_type": "stream",
          "name": "stdout",
          "text": [
            "[5, 4, 3, 2, 1]\n"
          ]
        }
      ]
    },
    {
      "cell_type": "code",
      "source": [
        "#7\n",
        "lista = [1, 2, 3, 4, 5]\n",
        "quadrados_lista = quadrados(lista)\n",
        "print(quadrados_lista)"
      ],
      "metadata": {
        "colab": {
          "base_uri": "https://localhost:8080/"
        },
        "id": "M5J6iHuE-YNN",
        "outputId": "41717a59-6a08-4e9c-8b7d-3ff3a790e607"
      },
      "execution_count": 12,
      "outputs": [
        {
          "output_type": "stream",
          "name": "stdout",
          "text": [
            "[1, 4, 9, 16, 25]\n"
          ]
        }
      ]
    },
    {
      "cell_type": "code",
      "source": [
        "#8\n",
        "lista = [1, 2, 3, 4, 5]\n",
        "maiores_que_3 = maiores_que(lista, 3)\n",
        "print(maiores_que_3)"
      ],
      "metadata": {
        "colab": {
          "base_uri": "https://localhost:8080/"
        },
        "id": "I8O6TBx6-dIS",
        "outputId": "b745eeff-741c-464d-f27b-1234579975e5"
      },
      "execution_count": 13,
      "outputs": [
        {
          "output_type": "stream",
          "name": "stdout",
          "text": [
            "[4, 5]\n"
          ]
        }
      ]
    },
    {
      "cell_type": "code",
      "source": [
        "#9\n",
        "lista1 = [1, 2, 3, 4, 5]\n",
        "lista2 = [3, 4, 5, 6, 7]\n",
        "elementos = em_uma_das_listas(lista1, lista2)\n",
        "print(elementos)"
      ],
      "metadata": {
        "colab": {
          "base_uri": "https://localhost:8080/"
        },
        "id": "JvZNBbqQ-f6u",
        "outputId": "11ecf8db-32b6-49b2-de9c-326e80eec9d5"
      },
      "execution_count": 16,
      "outputs": [
        {
          "output_type": "stream",
          "name": "stdout",
          "text": [
            "[1, 2, 6, 7]\n"
          ]
        }
      ]
    },
    {
      "cell_type": "code",
      "source": [
        "#10\n",
        "lista = [1, 2, 2, 3, 4, 4, 5]\n",
        "elementos_unicos_lista = elementos_unicos(lista)\n",
        "print(elementos_unicos_lista)"
      ],
      "metadata": {
        "colab": {
          "base_uri": "https://localhost:8080/"
        },
        "id": "wqwpZYWg-xPw",
        "outputId": "344b0c1f-f58a-412d-edec-2cfb9035b13c"
      },
      "execution_count": 17,
      "outputs": [
        {
          "output_type": "stream",
          "name": "stdout",
          "text": [
            "[1, 2, 3, 4, 5]\n"
          ]
        }
      ]
    },
    {
      "cell_type": "code",
      "source": [
        "#11\n",
        "lista1 = [1, 2, 3, 4, 5]\n",
        "lista2 = [3, 4, 5, 6, 7]\n",
        "unicos = elementos_unicos_em_ambas(lista1, lista2)\n",
        "print(unicos)"
      ],
      "metadata": {
        "colab": {
          "base_uri": "https://localhost:8080/"
        },
        "id": "3qsGy1g2-0Ws",
        "outputId": "0ad7fba9-9384-44f5-e590-5cbed444e01d"
      },
      "execution_count": 19,
      "outputs": [
        {
          "output_type": "stream",
          "name": "stdout",
          "text": [
            "[3, 4, 5]\n"
          ]
        }
      ]
    },
    {
      "cell_type": "code",
      "source": [
        "#12\n",
        "lista = [1, 2, 2, 3, 4, 4, 5]\n",
        "repete_lista = repete(lista)\n",
        "print(repete_lista)"
      ],
      "metadata": {
        "colab": {
          "base_uri": "https://localhost:8080/"
        },
        "id": "05ZRZ-lp-78V",
        "outputId": "b6dda96c-66f1-4b5d-9649-38ffec66aee3"
      },
      "execution_count": 20,
      "outputs": [
        {
          "output_type": "stream",
          "name": "stdout",
          "text": [
            "[2, 2, 4, 4]\n"
          ]
        }
      ]
    },
    {
      "cell_type": "code",
      "source": [
        "#13\n",
        "lista = [1, 2, 3, 4, 5, 6, 7, 8, 9, 10]\n",
        "pares_lista = numeros_pares(lista)\n",
        "print(pares_lista)"
      ],
      "metadata": {
        "colab": {
          "base_uri": "https://localhost:8080/"
        },
        "id": "nTUEk4Xm-_Eo",
        "outputId": "78fe3dab-26e0-4147-9901-9bf7e0868be6"
      },
      "execution_count": 21,
      "outputs": [
        {
          "output_type": "stream",
          "name": "stdout",
          "text": [
            "[2, 4, 6, 8, 10]\n"
          ]
        }
      ]
    },
    {
      "cell_type": "code",
      "source": [
        "#14\n",
        "lista = [1, 2, 3, 4, 5]\n",
        "indices_maiores_que_3 = indices_maiores_que(lista, 3)\n",
        "print(indices_maiores_que_3)"
      ],
      "metadata": {
        "colab": {
          "base_uri": "https://localhost:8080/"
        },
        "id": "GJmrdPcD_CFQ",
        "outputId": "fed766ac-cf30-4ff0-c442-217ee4da281a"
      },
      "execution_count": 22,
      "outputs": [
        {
          "output_type": "stream",
          "name": "stdout",
          "text": [
            "[3, 4]\n"
          ]
        }
      ]
    },
    {
      "cell_type": "code",
      "source": [
        "#15\n",
        "lista = [\"apple\", \"banana\", \"cherry\", \"date\"]\n",
        "tamanhos_lista = tamanhos_strings(lista)\n",
        "print(tamanhos_lista)"
      ],
      "metadata": {
        "colab": {
          "base_uri": "https://localhost:8080/"
        },
        "id": "Z5y113W8_Ier",
        "outputId": "d52a2f5a-172d-4f5c-9ba6-cd7ad487b08a"
      },
      "execution_count": 23,
      "outputs": [
        {
          "output_type": "stream",
          "name": "stdout",
          "text": [
            "[5, 6, 6, 4]\n"
          ]
        }
      ]
    },
    {
      "cell_type": "code",
      "source": [
        "#16\n",
        "lista = [1, 2, 3, 4, 5]\n",
        "cubos_lista = cubos(lista)\n",
        "print(cubos_lista)"
      ],
      "metadata": {
        "colab": {
          "base_uri": "https://localhost:8080/"
        },
        "id": "SI0o3q1X_L91",
        "outputId": "73e1e907-8f9e-4bf6-c659-9638f2df7b1a"
      },
      "execution_count": 24,
      "outputs": [
        {
          "output_type": "stream",
          "name": "stdout",
          "text": [
            "[1, 8, 27, 64, 125]\n"
          ]
        }
      ]
    },
    {
      "cell_type": "code",
      "source": [
        "#17\n",
        "lista = [1, 2, 2, 3, 4, 4, 5]\n",
        "unicos_lista = elementos_unicos(lista)\n",
        "print(unicos_lista)"
      ],
      "metadata": {
        "colab": {
          "base_uri": "https://localhost:8080/"
        },
        "id": "14GzOJlY_PIv",
        "outputId": "f26fc48d-beff-4cb8-8d5c-85d62e92b06a"
      },
      "execution_count": 25,
      "outputs": [
        {
          "output_type": "stream",
          "name": "stdout",
          "text": [
            "[1, 2, 3, 4, 5]\n"
          ]
        }
      ]
    },
    {
      "cell_type": "code",
      "source": [
        "#18\n",
        "lista = [\"maÇã\", \"Banana\", \"Laranja\", \"uva\"]\n",
        "maiusculas_lista = maiusculas(lista)\n",
        "print(maiusculas_lista)"
      ],
      "metadata": {
        "colab": {
          "base_uri": "https://localhost:8080/"
        },
        "id": "fkA042lt_T2O",
        "outputId": "a09c953c-049b-40ab-9b7a-801b95ae8f05"
      },
      "execution_count": 31,
      "outputs": [
        {
          "output_type": "stream",
          "name": "stdout",
          "text": [
            "['Banana', 'Laranja']\n"
          ]
        }
      ]
    },
    {
      "cell_type": "code",
      "source": [
        "#19\n",
        "lista = [1, 2, 3, 4, 5, 6, 7, 8, 9, 10]\n",
        "multiplos_3 = multiplos_de_3(lista)\n",
        "print(multiplos_3)"
      ],
      "metadata": {
        "colab": {
          "base_uri": "https://localhost:8080/"
        },
        "id": "xqKaSqxi_W61",
        "outputId": "87b89d20-01bd-4938-da35-4e5bdba81c3e"
      },
      "execution_count": 27,
      "outputs": [
        {
          "output_type": "stream",
          "name": "stdout",
          "text": [
            "[3, 6, 9]\n"
          ]
        }
      ]
    },
    {
      "cell_type": "code",
      "source": [
        "#20\n",
        "lista1 = [1, 2, 3, 4, 5]\n",
        "lista2 = [3, 4, 5, 6, 7]\n",
        "intersecao = intersecao_ordenada(lista1, lista2)\n",
        "print(intersecao)"
      ],
      "metadata": {
        "colab": {
          "base_uri": "https://localhost:8080/"
        },
        "id": "d8IrSrto_bTl",
        "outputId": "cd6c190d-033d-4d27-c517-8c27724255ac"
      },
      "execution_count": 28,
      "outputs": [
        {
          "output_type": "stream",
          "name": "stdout",
          "text": [
            "[3, 4, 5]\n"
          ]
        }
      ]
    }
  ]
}