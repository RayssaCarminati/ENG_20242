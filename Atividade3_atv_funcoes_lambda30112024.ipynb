{
  "nbformat": 4,
  "nbformat_minor": 0,
  "metadata": {
    "colab": {
      "provenance": [],
      "authorship_tag": "ABX9TyPyYUJ5Gx3f6roW+zpLC3AU",
      "include_colab_link": true
    },
    "kernelspec": {
      "name": "python3",
      "display_name": "Python 3"
    },
    "language_info": {
      "name": "python"
    }
  },
  "cells": [
    {
      "cell_type": "markdown",
      "metadata": {
        "id": "view-in-github",
        "colab_type": "text"
      },
      "source": [
        "<a href=\"https://colab.research.google.com/github/RayssaCarminati/ENG_20242/blob/main/Atividade3_atv_funcoes_lambda30112024.ipynb\" target=\"_parent\"><img src=\"https://colab.research.google.com/assets/colab-badge.svg\" alt=\"Open In Colab\"/></a>"
      ]
    },
    {
      "cell_type": "code",
      "execution_count": 3,
      "metadata": {
        "colab": {
          "base_uri": "https://localhost:8080/"
        },
        "id": "GoLEuYeb3_Ly",
        "outputId": "1b8e6978-c1e1-492e-86cb-c9d0e59567e9"
      },
      "outputs": [
        {
          "output_type": "stream",
          "name": "stdout",
          "text": [
            "[1, 4, 9, 16, 25]\n"
          ]
        }
      ],
      "source": [
        "#1 Dada uma lista de números inteiros, use uma função lambda para retornar uma lista com o quadrado de cada número.\n",
        "numeros = [1, 2, 3, 4, 5]\n",
        "quadrados = list(map(lambda x: x**2, numeros))\n",
        "print(quadrados)"
      ]
    },
    {
      "cell_type": "code",
      "source": [
        "#2 Dada uma lista de temperaturas em Celsius, use uma função lambda para convertê-las em Fahrenheit.\n",
        "celsius = [0, 20, 30, 40]\n",
        "fahrenheit = list(map(lambda c: (c * 9/5) + 32, celsius))\n",
        "print(fahrenheit)"
      ],
      "metadata": {
        "colab": {
          "base_uri": "https://localhost:8080/"
        },
        "id": "7K45bnVn4P6y",
        "outputId": "960c8c70-444b-4360-dbdb-99af1ee5fdd0"
      },
      "execution_count": 5,
      "outputs": [
        {
          "output_type": "stream",
          "name": "stdout",
          "text": [
            "[32.0, 68.0, 86.0, 104.0]\n"
          ]
        }
      ]
    },
    {
      "cell_type": "code",
      "source": [
        "#3 Dada uma lista de palavras, use uma função lambda para retornar uma lista com o comprimento de cada palavra.\n",
        "palavras = [\"python\", \"lambda\", \"função\"]\n",
        "comprimentos = list(map(lambda p: len(p), palavras))\n",
        "print(comprimentos)"
      ],
      "metadata": {
        "colab": {
          "base_uri": "https://localhost:8080/"
        },
        "id": "X5XSLNfs4mTm",
        "outputId": "1147bd3d-60c0-4d09-fb11-8356e21050ca"
      },
      "execution_count": 6,
      "outputs": [
        {
          "output_type": "stream",
          "name": "stdout",
          "text": [
            "[6, 6, 6]\n"
          ]
        }
      ]
    },
    {
      "cell_type": "code",
      "source": [
        "#4 Use uma função lambda para dobrar os valores de uma lista de inteiros.\n",
        "valores = [1, 2, 3, 4]\n",
        "dobrados = list(map(lambda x: x * 2, valores))\n",
        "print(dobrados)"
      ],
      "metadata": {
        "colab": {
          "base_uri": "https://localhost:8080/"
        },
        "id": "PPSxceCM41Ww",
        "outputId": "b645ac78-25d1-404a-bcef-4d7b52a68f8b"
      },
      "execution_count": 7,
      "outputs": [
        {
          "output_type": "stream",
          "name": "stdout",
          "text": [
            "[2, 4, 6, 8]\n"
          ]
        }
      ]
    },
    {
      "cell_type": "code",
      "source": [
        "#5 Dada uma lista de nomes, use uma função lambda para adicionar o prefixo \"Sr./Sra.\" antes de cada nome.\n",
        "nomes = [\"Carlos\", \"Maria\", \"João\"]\n",
        "prefixados = list(map(lambda nome: f\"Sr./Sra. {nome}\", nomes))\n",
        "print(prefixados)"
      ],
      "metadata": {
        "colab": {
          "base_uri": "https://localhost:8080/"
        },
        "id": "3QhCyp4x5K0q",
        "outputId": "b150b8b1-7a98-44e1-c3ee-7c659e0a0c3e"
      },
      "execution_count": 8,
      "outputs": [
        {
          "output_type": "stream",
          "name": "stdout",
          "text": [
            "['Sr./Sra. Carlos', 'Sr./Sra. Maria', 'Sr./Sra. João']\n"
          ]
        }
      ]
    },
    {
      "cell_type": "code",
      "source": [
        "#6 Dada uma lista de números, use uma função lambda para retornar apenas os números pares.\n",
        "numeros = [1, 2, 3, 4, 5, 6]\n",
        "pares = list(filter(lambda x: x % 2 == 0, numeros))\n",
        "print(pares)"
      ],
      "metadata": {
        "colab": {
          "base_uri": "https://localhost:8080/"
        },
        "id": "HIrKRTuK5Z1s",
        "outputId": "7c39c525-79f2-4f71-d1b0-ccca604c7493"
      },
      "execution_count": 9,
      "outputs": [
        {
          "output_type": "stream",
          "name": "stdout",
          "text": [
            "[2, 4, 6]\n"
          ]
        }
      ]
    },
    {
      "cell_type": "code",
      "source": [
        "#7 Dada uma lista de palavras, use uma função lambda para retornar apenas as palavras com menos de 5 caracteres.\n",
        "palavras = [\"sol\", \"lua\", \"estrela\", \"mar\"]\n",
        "curtas = list(filter(lambda p: len(p) < 5, palavras))\n",
        "print(curtas)"
      ],
      "metadata": {
        "colab": {
          "base_uri": "https://localhost:8080/"
        },
        "id": "Zm2bBjNf5odj",
        "outputId": "be77f985-29e2-41ea-ffe5-aae25cb5e99f"
      },
      "execution_count": 10,
      "outputs": [
        {
          "output_type": "stream",
          "name": "stdout",
          "text": [
            "['sol', 'lua', 'mar']\n"
          ]
        }
      ]
    },
    {
      "cell_type": "code",
      "source": [
        "#8 Dada uma lista de idades, use uma função lambda para retornar apenas as idades maiores que 18.\n",
        "idades = [15, 20, 17, 25]\n",
        "maiores = list(filter(lambda idade: idade > 18, idades))\n",
        "print(maiores)"
      ],
      "metadata": {
        "colab": {
          "base_uri": "https://localhost:8080/"
        },
        "id": "i3Hjg2iX5z4D",
        "outputId": "7994698d-bac2-4785-d137-9231c15d03d6"
      },
      "execution_count": 11,
      "outputs": [
        {
          "output_type": "stream",
          "name": "stdout",
          "text": [
            "[20, 25]\n"
          ]
        }
      ]
    },
    {
      "cell_type": "code",
      "source": [
        "#9 Dada uma lista de strings, use uma função lambda para retornar as strings que começam com a letra \"a\".\n",
        "strings = [\"amor\", \"carro\", \"amigo\", \"casa\"]\n",
        "com_a = list(filter(lambda s: s.startswith(\"a\"), strings))\n",
        "print(com_a)"
      ],
      "metadata": {
        "colab": {
          "base_uri": "https://localhost:8080/"
        },
        "id": "S0Ug_Fpk6KM_",
        "outputId": "78f420c6-cf69-4c0f-e64e-1c37314d85ff"
      },
      "execution_count": 12,
      "outputs": [
        {
          "output_type": "stream",
          "name": "stdout",
          "text": [
            "['amor', 'amigo']\n"
          ]
        }
      ]
    },
    {
      "cell_type": "code",
      "source": [
        "#10 Dada uma lista de números inteiros, use uma função lambda para retornar apenas os números positivos.\n",
        "numeros = [-10, -5, 0, 5, 10]\n",
        "positivos = list(filter(lambda x: x > 0, numeros))\n",
        "print(positivos)"
      ],
      "metadata": {
        "colab": {
          "base_uri": "https://localhost:8080/"
        },
        "id": "3eL5XOzz6Kgz",
        "outputId": "8c51445b-d4b2-4efd-bade-65c61a31bb6c"
      },
      "execution_count": 13,
      "outputs": [
        {
          "output_type": "stream",
          "name": "stdout",
          "text": [
            "[5, 10]\n"
          ]
        }
      ]
    },
    {
      "cell_type": "code",
      "source": [
        "#11 Use uma função lambda para calcular a soma de uma lista de números.\n",
        "numeros = [1, 2, 3, 4, 5]\n",
        "soma = sum(numeros)\n",
        "print(soma)"
      ],
      "metadata": {
        "colab": {
          "base_uri": "https://localhost:8080/"
        },
        "id": "I46BGIj26Kwk",
        "outputId": "aa9c93e2-2525-4ef2-fcdb-5c8d1e281244"
      },
      "execution_count": 14,
      "outputs": [
        {
          "output_type": "stream",
          "name": "stdout",
          "text": [
            "15\n"
          ]
        }
      ]
    },
    {
      "cell_type": "code",
      "source": [
        "\n",
        "#12 Use uma função lambda para multiplicar todos os elementos de uma lista.\n",
        "from functools import reduce\n",
        "numeros = [1, 2, 3, 4]\n",
        "produto = reduce(lambda x, y: x * y, numeros)\n",
        "print(produto)"
      ],
      "metadata": {
        "colab": {
          "base_uri": "https://localhost:8080/"
        },
        "id": "bMBhjvUa6LEF",
        "outputId": "593d9efb-76c9-454d-dd82-4cc1f562f287"
      },
      "execution_count": 15,
      "outputs": [
        {
          "output_type": "stream",
          "name": "stdout",
          "text": [
            "24\n"
          ]
        }
      ]
    },
    {
      "cell_type": "code",
      "source": [
        "#13 Use uma função lambda para encontrar o maior número em uma lista.\n",
        "numeros = [10, 20, 30, 40]\n",
        "maior = max(numeros)\n",
        "print(maior)"
      ],
      "metadata": {
        "colab": {
          "base_uri": "https://localhost:8080/"
        },
        "id": "BMXENNBm6LfT",
        "outputId": "0c6365e5-61ee-4b54-b51e-3f65b8747cf2"
      },
      "execution_count": 18,
      "outputs": [
        {
          "output_type": "stream",
          "name": "stdout",
          "text": [
            "40\n"
          ]
        }
      ]
    },
    {
      "cell_type": "code",
      "source": [
        "#14 Use uma função lambda para concatenar uma lista de palavras em uma única string separada por espaços.\n",
        "palavras = [\"Python\", \"é\", \"legal\"]\n",
        "frase = \" \".join(palavras)\n",
        "print(frase)"
      ],
      "metadata": {
        "colab": {
          "base_uri": "https://localhost:8080/"
        },
        "id": "QwpRe3OR6LoT",
        "outputId": "91fc7adb-5382-4de5-a653-520c0b7d6db4"
      },
      "execution_count": 19,
      "outputs": [
        {
          "output_type": "stream",
          "name": "stdout",
          "text": [
            "Python é legal\n"
          ]
        }
      ]
    },
    {
      "cell_type": "code",
      "source": [
        "#15 Use uma função lambda para somar os dígitos de uma lista de inteiros, onde cada número é tratado individualmente.\n",
        "numeros = [12, 34, 56]\n",
        "soma_digitos = list(map(lambda x: sum(map(int, str(x))), numeros))\n",
        "print(soma_digitos)"
      ],
      "metadata": {
        "colab": {
          "base_uri": "https://localhost:8080/"
        },
        "id": "r3UtMpN36L4A",
        "outputId": "032f87ad-2589-4abd-b6da-86aeb9c0fe98"
      },
      "execution_count": 20,
      "outputs": [
        {
          "output_type": "stream",
          "name": "stdout",
          "text": [
            "[3, 7, 11]\n"
          ]
        }
      ]
    },
    {
      "cell_type": "code",
      "source": [
        "#16 Use uma função lambda para dobrar os números de uma lista e retornar apenas os números que são maiores que 20.\n",
        "numeros = [5, 10, 15, 20]\n",
        "filtrados = list(filter(lambda x: x > 20, map(lambda x: x * 2, numeros)))\n",
        "print(filtrados)"
      ],
      "metadata": {
        "colab": {
          "base_uri": "https://localhost:8080/"
        },
        "id": "5Wq67qNY6MJF",
        "outputId": "e2d30363-fecd-4a4a-ac68-72e7099772b8"
      },
      "execution_count": 21,
      "outputs": [
        {
          "output_type": "stream",
          "name": "stdout",
          "text": [
            "[30, 40]\n"
          ]
        }
      ]
    },
    {
      "cell_type": "code",
      "source": [
        "#17 Dada uma lista de palavras, use uma função lambda para encontrar todas as palavras que contêm a letra \"e\" e conte quantas são.\n",
        "palavras = [\"sol\", \"estrela\", \"lua\", \"terra\"]\n",
        "com_e = list(filter(lambda p: \"e\" in p, palavras))\n",
        "print(len(com_e))"
      ],
      "metadata": {
        "colab": {
          "base_uri": "https://localhost:8080/"
        },
        "id": "WEc5OHEM6MTj",
        "outputId": "20ebcb20-dc3e-4786-cf78-83827bf13169"
      },
      "execution_count": 23,
      "outputs": [
        {
          "output_type": "stream",
          "name": "stdout",
          "text": [
            "2\n"
          ]
        }
      ]
    },
    {
      "cell_type": "code",
      "source": [
        "#18 Converta uma lista de temperaturas de Fahrenheit para Celsius usando uma função lambda e, em seguida, retorne apenas as temperaturas abaixo de 20°C.\n",
        "fahrenheit = [32, 50, 70]\n",
        "celsius_baixas = list(filter(lambda c: c < 20, map(lambda f: (f - 32) * 5/9, fahrenheit)))\n",
        "print(celsius_baixas)"
      ],
      "metadata": {
        "colab": {
          "base_uri": "https://localhost:8080/"
        },
        "id": "uUFcWACe8cUU",
        "outputId": "cf119193-df33-4bae-fc38-1b0bdb2f356a"
      },
      "execution_count": 24,
      "outputs": [
        {
          "output_type": "stream",
          "name": "stdout",
          "text": [
            "[0.0, 10.0]\n"
          ]
        }
      ]
    },
    {
      "cell_type": "code",
      "source": [
        "#19 Use uma função lambda para selecionar apenas os números pares de uma lista e, em seguida, somar esses números.\n",
        "numeros = [1, 2, 3, 4, 5, 6]\n",
        "soma_pares = sum(filter(lambda x: x % 2 == 0, numeros))\n",
        "print(soma_pares)"
      ],
      "metadata": {
        "colab": {
          "base_uri": "https://localhost:8080/"
        },
        "id": "VcFFChbs8nnT",
        "outputId": "f4bf3783-dad0-42e9-d747-af919f1b8612"
      },
      "execution_count": 25,
      "outputs": [
        {
          "output_type": "stream",
          "name": "stdout",
          "text": [
            "12\n"
          ]
        }
      ]
    },
    {
      "cell_type": "code",
      "source": [
        "#20 Use uma função lambda para substituir números negativos de uma lista por 0 e manter os positivos.\n",
        "numeros = [-5, -10, 15, 20]\n",
        "substituidos = list(map(lambda x: x if x > 0 else 0, numeros))\n",
        "print(substituidos)"
      ],
      "metadata": {
        "colab": {
          "base_uri": "https://localhost:8080/"
        },
        "id": "w_qbiDd88xWL",
        "outputId": "5e748220-dc2d-45eb-8432-790756ea03d0"
      },
      "execution_count": 26,
      "outputs": [
        {
          "output_type": "stream",
          "name": "stdout",
          "text": [
            "[0, 0, 15, 20]\n"
          ]
        }
      ]
    },
    {
      "cell_type": "code",
      "source": [
        "#21 Use uma função lambda para retornar a lista de cubos de cada elemento em uma lista de números.\n",
        "numeros = [1, 2, 3]\n",
        "cubos = list(map(lambda x: x**3, numeros))\n",
        "print(cubos)"
      ],
      "metadata": {
        "colab": {
          "base_uri": "https://localhost:8080/"
        },
        "id": "CHHtMJKH9fda",
        "outputId": "66a5ed30-b5c0-4b80-f8f3-662df3c6c391"
      },
      "execution_count": 27,
      "outputs": [
        {
          "output_type": "stream",
          "name": "stdout",
          "text": [
            "[1, 8, 27]\n"
          ]
        }
      ]
    },
    {
      "cell_type": "code",
      "source": [
        "#22 Use uma função lambda para verificar se um número dado é primo (retornando True ou False).\n",
        "is_primo = lambda x: all(x % i != 0 for i in range(2, int(x**0.5) + 1)) and x > 1\n",
        "print(is_primo(7), is_primo(4))"
      ],
      "metadata": {
        "colab": {
          "base_uri": "https://localhost:8080/"
        },
        "id": "7K8Ys0Zl91qD",
        "outputId": "dfabea51-8dee-4147-f979-19ad4a4090ca"
      },
      "execution_count": 29,
      "outputs": [
        {
          "output_type": "stream",
          "name": "stdout",
          "text": [
            "True False\n"
          ]
        }
      ]
    },
    {
      "cell_type": "code",
      "source": [
        "#23 Use uma função lambda para dividir cada elemento de uma lista por 5 e retornar a nova lista.\n",
        "numeros = [10, 20, 25]\n",
        "divididos = list(map(lambda x: x / 5, numeros))\n",
        "print(divididos)"
      ],
      "metadata": {
        "colab": {
          "base_uri": "https://localhost:8080/"
        },
        "id": "xFrsvkK1-E4e",
        "outputId": "e9d1b1ba-6aec-4f6d-f679-7bd798f1a745"
      },
      "execution_count": 30,
      "outputs": [
        {
          "output_type": "stream",
          "name": "stdout",
          "text": [
            "[2.0, 4.0, 5.0]\n"
          ]
        }
      ]
    },
    {
      "cell_type": "code",
      "source": [
        "#24 Use uma função lambda para remover todas as vogais de uma string dada.\n",
        "texto = \"lambda functions\"\n",
        "sem_vogais = \"\".join(filter(lambda x: x.lower() not in \"aeiou\", texto))\n",
        "print(sem_vogais)"
      ],
      "metadata": {
        "colab": {
          "base_uri": "https://localhost:8080/"
        },
        "id": "GmKoIGXX-OIk",
        "outputId": "290c0e18-1106-40a0-d870-817d2616c584"
      },
      "execution_count": 31,
      "outputs": [
        {
          "output_type": "stream",
          "name": "stdout",
          "text": [
            "lmbd fnctns\n"
          ]
        }
      ]
    },
    {
      "cell_type": "code",
      "source": [
        "#25 Use uma função lambda para converter todas as palavras em uma lista para letras maiúsculas.\n",
        "palavras = [\"python\", \"lambda\", \"função\"]\n",
        "maiusculas = list(map(lambda p: p.upper(), palavras))\n",
        "print(maiusculas)"
      ],
      "metadata": {
        "colab": {
          "base_uri": "https://localhost:8080/"
        },
        "id": "uqVowadc-ggj",
        "outputId": "6dff0dab-3836-4723-d014-da1d9f169934"
      },
      "execution_count": 32,
      "outputs": [
        {
          "output_type": "stream",
          "name": "stdout",
          "text": [
            "['PYTHON', 'LAMBDA', 'FUNÇÃO']\n"
          ]
        }
      ]
    },
    {
      "cell_type": "code",
      "source": [
        "#26 Use uma função lambda para retornar apenas os números negativos de uma lista de inteiros.\n",
        "numeros = [-1, 2, -3, 4]\n",
        "negativos = list(filter(lambda x: x < 0, numeros))\n",
        "print(negativos)"
      ],
      "metadata": {
        "id": "MryLwiSB-pSH"
      },
      "execution_count": null,
      "outputs": []
    },
    {
      "cell_type": "code",
      "source": [
        "#27 Use uma função lambda para converter todos os números de uma lista para seus valores absolutos.\n",
        "numeros = [-10, -5, 0, 5]\n",
        "absolutos = list(map(lambda x: abs(x), numeros))\n",
        "print(absolutos)"
      ],
      "metadata": {
        "colab": {
          "base_uri": "https://localhost:8080/"
        },
        "id": "NML1g5Py-2so",
        "outputId": "517982b0-8a29-472e-c86e-f27d3c813ad2"
      },
      "execution_count": 33,
      "outputs": [
        {
          "output_type": "stream",
          "name": "stdout",
          "text": [
            "[10, 5, 0, 5]\n"
          ]
        }
      ]
    },
    {
      "cell_type": "code",
      "source": [
        "#28 Use uma função lambda para retornar uma lista com o resto da divisão de cada elemento por 3.\n",
        "numeros = [1, 2, 3, 4, 5]\n",
        "restos = list(map(lambda x: x % 3, numeros))\n",
        "print(restos)"
      ],
      "metadata": {
        "colab": {
          "base_uri": "https://localhost:8080/"
        },
        "id": "sN06tDsH_EPa",
        "outputId": "30166757-a52f-4ee4-ff98-257c45a0299d"
      },
      "execution_count": 34,
      "outputs": [
        {
          "output_type": "stream",
          "name": "stdout",
          "text": [
            "[1, 2, 0, 1, 2]\n"
          ]
        }
      ]
    },
    {
      "cell_type": "code",
      "source": [
        "#29 Dada uma lista de números, use uma função lambda para multiplicar cada elemento pelo seu índice.\n",
        "numeros = [1, 2, 3, 4]\n",
        "multiplicados = list(map(lambda x: x[0] * x[1], enumerate(numeros)))\n",
        "print(\"#29\", multiplicados)"
      ],
      "metadata": {
        "id": "GzWi13az_L_6"
      },
      "execution_count": null,
      "outputs": []
    },
    {
      "cell_type": "code",
      "source": [
        "#29 Dada uma lista de números, use uma função lambda para multiplicar cada elemento pelo seu índice.\n",
        "numeros = [1, 2, 3, 4]\n",
        "multiplicados = list(map(lambda x: x[0] * x[1], enumerate(numeros)))\n",
        "print(multiplicados)"
      ],
      "metadata": {
        "colab": {
          "base_uri": "https://localhost:8080/"
        },
        "id": "8XSUmEJf_nPf",
        "outputId": "9d8cdd1a-c2e4-4638-f913-9e6d7524b694"
      },
      "execution_count": 35,
      "outputs": [
        {
          "output_type": "stream",
          "name": "stdout",
          "text": [
            "[0, 2, 6, 12]\n"
          ]
        }
      ]
    }
  ]
}