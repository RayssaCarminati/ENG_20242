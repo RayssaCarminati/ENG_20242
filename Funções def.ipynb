{
  "nbformat": 4,
  "nbformat_minor": 0,
  "metadata": {
    "colab": {
      "provenance": [],
      "include_colab_link": true
    },
    "kernelspec": {
      "name": "python3",
      "display_name": "Python 3"
    },
    "language_info": {
      "name": "python"
    }
  },
  "cells": [
    {
      "cell_type": "markdown",
      "metadata": {
        "id": "view-in-github",
        "colab_type": "text"
      },
      "source": [
        "<a href=\"https://colab.research.google.com/github/RayssaCarminati/ENG_20242/blob/main/Fun%C3%A7%C3%B5es%20def.ipynb\" target=\"_parent\"><img src=\"https://colab.research.google.com/assets/colab-badge.svg\" alt=\"Open In Colab\"/></a>"
      ]
    },
    {
      "cell_type": "code",
      "source": [
        "cidade()"
      ],
      "metadata": {
        "colab": {
          "base_uri": "https://localhost:8080/"
        },
        "id": "QNoP5MBhLfkE",
        "outputId": "5fc0397c-774d-4bd4-c630-de28c5c3907b"
      },
      "execution_count": null,
      "outputs": [
        {
          "output_type": "stream",
          "name": "stdout",
          "text": [
            "Digite seu nome: rayssa\n",
            "Digite sua cidade: vivla velha\n",
            "Olá, rayssa! Você vive em vivla velha.\n"
          ]
        }
      ]
    },
    {
      "cell_type": "code",
      "execution_count": null,
      "metadata": {
        "id": "2GzKEhHnLcbV"
      },
      "outputs": [],
      "source": [
        "#1 - Crie uma função para que o usuário digite o seu nome e a sua cidade. O programa deve exibir \"Olá, [nome]! Você vive em [cidade].\n",
        "def cidade():\n",
        "  nome=input(\"Digite seu nome: \")\n",
        "  cidade=input(\"Digite sua cidade: \")\n",
        "  print(f\"Olá, {nome}! Você vive em {cidade}.\")\n",
        "#2 - Crie uma função para que o usuário digite o comprimento e a largura de um retângulo. O programa deve exibir a área e o perímetro do retângulo.\n",
        "def retangulo():\n",
        "  comp=float(input(\"comprimento retangulo (cm): \"))\n",
        "  larg=float(input(\"largura retangulo (cm): \"))\n",
        "  area=comp*larg\n",
        "  perimetro=2\n",
        "  print(f\"A área do retangulo é {area}cm e o perímetro é {perimetro}cm.\")\n",
        "#3 - Crie uma função para que o usuário digite uma medida em metros. O programa deve converter essa medida para centímetros e milímetros e exibir o resultado.\n",
        "def medida():\n",
        "  medida=float(input(\"Digite uma medida em metros: \"))\n",
        "  cm=medida*100\n",
        "  mm=medida*1000\n",
        "  print(f\"A medida em centímetros é {cm}cm e em milímetros é {mm}mm.\")\n",
        "#4 - Crie uma função para que o usuário digite a largura e a altura de um retângulo. O programa deve calcular e exibir a área do retângulo.base = float(input(\"Digite o tamanho da base do retangulo (cm):\"))\n",
        "def area():\n",
        "  base=float(input(\"Digite o tamanho da base do retangulo (cm): \"))\n",
        "  altura=float(input(\"Digite o tamanho da altura do retangulo (cm): \"))\n",
        "  area=base*altura\n",
        "  print(f\"A área do retangulo é {area}cm.\")\n",
        "#5 - Crie uma função para que o usuário digite as idades de duas pessoas. O programa deve exibir se as idades são iguais ou diferentes.\n",
        "def idade():\n",
        "  idade1=int(input(\"Digite a idade: \"))\n",
        "  idade2=int(input(\"Digite a idade: \"))\n",
        "  if idade1==idade2:\n",
        "    print(\"As idades são iguais.\")\n",
        "  else:\n",
        "    print(\"As idades são diferentes.\")\n",
        "#6 - Crie uma função para que o usuário digite seu peso (em kg) e sua altura (em metros). O programa deve calcular e exibir o Índice de Massa Corporal (IMC).\n",
        "def peso():\n",
        "  peso=float(input(\"Digite seu peso (em kg): \"))\n",
        "  altura=float(input(\"Digite sua altura (em metros): \"))\n",
        "  imc/peso**2\n",
        "  print(f\"Seu IMC é {imc}.\")\n",
        "#7 - Crie uma função para que o usuário digite dois números. O programa deve exibir se o primeiro número é maior, menor ou igual ao segundo número.\n",
        "def maior():\n",
        "  num1=int(input(\"Digite um número: \"))\n",
        "  num2=int(input(\"Digite um número: \"))\n",
        "  if num1>num2:\n",
        "    print(f\"{num1} é maior que {num2}.\")\n",
        "  elif num1<num2:\n",
        "    print(f\"{num1} é menor que {num2}.\")\n",
        "  else:\n",
        "    print(f\"{num1} é igual a {num2}.\")\n",
        "#8 - Crie uma função para que o usuário digite três números. O programa deve calcular e exibir a média aritmética desses números.\n",
        "def media():\n",
        "  num1=int(input(\"Digite um número: \"))\n",
        "  num2=int(input(\"Digite um número: \"))\n",
        "  num3=int(input(\"Digite um número: \"))\n",
        "  media=(num1+num2+num3)/3\n",
        "  print(f\"A média é {media}.\")\n",
        "#9 - Crie uma função para que o usuário digite o raio e a altura de um cilindro. O programa deve calcular e exibir o volume do cilindro.\n",
        "def cilindro():\n",
        "  raio=float(input(\"Digite o raio do cilindro: \"))\n",
        "  altura=float(input(\"Digite a altura do cilindro: \"))\n",
        "  volume=3.14*raio**2*altura\n",
        "  print(f\"O volume do cilindro é {volume}.\")\n",
        "#10 - Crie uma função para que o usuário digite duas palavras. O programa deve exibir se as palavras são iguais ou diferentes.\n",
        "def palavras():\n",
        "  palavra1=input(\"Digite uma palavra: \")\n",
        "  palavra2=input(\"Digite uma palavra: \")\n",
        "  if palavra1==palavra2:\n",
        "    print(\"As palavras são iguais.\")\n",
        "  else:\n",
        "    print(\"As palavras são diferentes.\")"
      ]
    },
    {
      "cell_type": "code",
      "source": [
        "retangulo()"
      ],
      "metadata": {
        "colab": {
          "base_uri": "https://localhost:8080/"
        },
        "id": "R_v4f5UMN455",
        "outputId": "0b7f990d-2b59-4abe-d466-d27d00df7ca5"
      },
      "execution_count": null,
      "outputs": [
        {
          "output_type": "stream",
          "name": "stdout",
          "text": [
            "comprimento retangulo (cm): 5\n",
            "largura retangulo (cm): 9\n",
            "A área do retangulo é 45.0cm e o perímetro é 2cm.\n"
          ]
        }
      ]
    },
    {
      "cell_type": "code",
      "source": [
        "medida()"
      ],
      "metadata": {
        "colab": {
          "base_uri": "https://localhost:8080/"
        },
        "id": "huZYE5UQPEul",
        "outputId": "57265a88-a97d-44c6-b28f-12b29628c80a"
      },
      "execution_count": null,
      "outputs": [
        {
          "output_type": "stream",
          "name": "stdout",
          "text": [
            "Digite uma medida em metros: 3\n",
            "A medida em centímetros é 300.0cm e em milímetros é 3000.0mm.\n"
          ]
        }
      ]
    },
    {
      "cell_type": "code",
      "source": [
        "area()"
      ],
      "metadata": {
        "colab": {
          "base_uri": "https://localhost:8080/"
        },
        "id": "9cH9YjGyPY45",
        "outputId": "c8e1c33b-24c0-46da-9f0a-45221fe349e8"
      },
      "execution_count": null,
      "outputs": [
        {
          "output_type": "stream",
          "name": "stdout",
          "text": [
            "Digite o tamanho da base do retangulo (cm): 4\n",
            "Digite o tamanho da altura do retangulo (cm): 7\n",
            "A área do retangulo é 28.0cm.\n"
          ]
        }
      ]
    },
    {
      "cell_type": "code",
      "source": [
        "idade()"
      ],
      "metadata": {
        "colab": {
          "base_uri": "https://localhost:8080/"
        },
        "id": "B4DOgx2OS-h8",
        "outputId": "ce1ddb07-3549-40e7-e099-9dd0da27a903"
      },
      "execution_count": null,
      "outputs": [
        {
          "output_type": "stream",
          "name": "stdout",
          "text": [
            "Digite a idade: 5\n",
            "Digite a idade: 6\n",
            "As idades são diferentes.\n"
          ]
        }
      ]
    },
    {
      "cell_type": "code",
      "source": [
        "peso()"
      ],
      "metadata": {
        "id": "RXcXytrtWMaH"
      },
      "execution_count": null,
      "outputs": []
    }
  ]
}