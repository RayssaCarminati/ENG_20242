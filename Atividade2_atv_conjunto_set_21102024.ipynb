{
  "nbformat": 4,
  "nbformat_minor": 0,
  "metadata": {
    "colab": {
      "provenance": [],
      "authorship_tag": "ABX9TyM0VRLtu0FTiRKSo++sku9H",
      "include_colab_link": true
    },
    "kernelspec": {
      "name": "python3",
      "display_name": "Python 3"
    },
    "language_info": {
      "name": "python"
    }
  },
  "cells": [
    {
      "cell_type": "markdown",
      "metadata": {
        "id": "view-in-github",
        "colab_type": "text"
      },
      "source": [
        "<a href=\"https://colab.research.google.com/github/RayssaCarminati/ENG_20242/blob/main/Atividade2_atv_conjunto_set_21102024.ipynb\" target=\"_parent\"><img src=\"https://colab.research.google.com/assets/colab-badge.svg\" alt=\"Open In Colab\"/></a>"
      ]
    },
    {
      "cell_type": "code",
      "execution_count": null,
      "metadata": {
        "colab": {
          "base_uri": "https://localhost:8080/"
        },
        "id": "sLiBVDkNlwu4",
        "outputId": "58e0a81b-e8a6-49a8-8cf3-4a51734abd2d"
      },
      "outputs": [
        {
          "output_type": "stream",
          "name": "stdout",
          "text": [
            "{1, 2, 3, 4, 5}\n"
          ]
        }
      ],
      "source": [
        "meu_conjunto=set()\n",
        "conjunto_de_numeros={1, 2, 3, 4, 5}\n",
        "print(conjunto_de_numeros)\n"
      ]
    },
    {
      "cell_type": "code",
      "source": [
        "conjunto={1,2,2,3,4}\n",
        "print(conjunto)"
      ],
      "metadata": {
        "colab": {
          "base_uri": "https://localhost:8080/"
        },
        "id": "8WuJjlRbmMLq",
        "outputId": "46f62da9-0449-4cd0-c558-4a0387f3f62e"
      },
      "execution_count": null,
      "outputs": [
        {
          "output_type": "stream",
          "name": "stdout",
          "text": [
            "{1, 2, 3, 4}\n"
          ]
        }
      ]
    },
    {
      "cell_type": "code",
      "source": [
        "conjunto={1,2,3}\n",
        "conjunto.add(4)\n",
        "print(conjunto)"
      ],
      "metadata": {
        "colab": {
          "base_uri": "https://localhost:8080/"
        },
        "id": "d-4l-6YJm5QQ",
        "outputId": "3704774f-6190-4070-e0c8-32e9e9e7432d"
      },
      "execution_count": null,
      "outputs": [
        {
          "output_type": "stream",
          "name": "stdout",
          "text": [
            "{1, 2, 3, 4}\n"
          ]
        }
      ]
    },
    {
      "cell_type": "code",
      "source": [
        "#1 - Crie um conjunto chamado `frutas` que contenha os seguintes elementos: \"maçã\", \"banana\", \"laranja\" e \"uva\". Depois de criar o conjunto, exiba-o no console para confirmar os elementos adicionados.\n",
        "frutas={\"maçã\", \"banana\", \"laranja\", \"uva\"}\n",
        "print(frutas)"
      ],
      "metadata": {
        "colab": {
          "base_uri": "https://localhost:8080/"
        },
        "id": "B5Di2SQwo40H",
        "outputId": "f4ed6048-18d5-4fe7-b745-632a11ed3f81"
      },
      "execution_count": null,
      "outputs": [
        {
          "output_type": "stream",
          "name": "stdout",
          "text": [
            "{'maçã', 'uva', 'banana', 'laranja'}\n"
          ]
        }
      ]
    },
    {
      "cell_type": "code",
      "source": [
        "#2 - Utilizando o conjunto `frutas` criado anteriormente, adicione a fruta \"morango\" ao conjunto. Lembre-se que conjuntos não permitem duplicatas, então adicione um elemento que já exista para verificar o comportamento.\n",
        "frutas.add(\"morango\")\n",
        "frutas.add(\"banana\")\n",
        "print(frutas)"
      ],
      "metadata": {
        "colab": {
          "base_uri": "https://localhost:8080/"
        },
        "id": "v_L2HoIypVYH",
        "outputId": "5317a9bd-6feb-45fc-9589-ac7f452736b9"
      },
      "execution_count": null,
      "outputs": [
        {
          "output_type": "stream",
          "name": "stdout",
          "text": [
            "{'laranja', 'morango', 'banana', 'maçã', 'uva'}\n"
          ]
        }
      ]
    },
    {
      "cell_type": "code",
      "source": [
        "#3 - Remova a fruta \"banana\" do conjunto `frutas`. Se \"banana\" não estiver presente, o código pode gerar um erro. Verifique se a fruta existe antes de removê-la ou trate o erro adequadamente.\n",
        "frutas.remove(\"banana\")\n",
        "print(frutas)"
      ],
      "metadata": {
        "colab": {
          "base_uri": "https://localhost:8080/"
        },
        "id": "xhvdeSKvprUf",
        "outputId": "51330e17-70d1-450d-92f9-4a2756920688"
      },
      "execution_count": null,
      "outputs": [
        {
          "output_type": "stream",
          "name": "stdout",
          "text": [
            "{'laranja', 'morango', 'maçã', 'uva'}\n"
          ]
        }
      ]
    },
    {
      "cell_type": "code",
      "source": [
        "#4 - Verifique se a fruta \"laranja\" está presente no conjunto `frutas` usando uma estrutura condicional. Exiba uma mensagem no console indicando se \"laranja\" está ou não presente no conjunto.\n",
        "if \"laranja\" in frutas:\n",
        "  print(\"A laranja está presente no conjunto!\")\n",
        "else:\n",
        "  print(\"A laranja não está presente no conjunto!\")"
      ],
      "metadata": {
        "colab": {
          "base_uri": "https://localhost:8080/"
        },
        "id": "Lipavqegqe1O",
        "outputId": "3629ffac-9be1-459e-dc55-9ad4eb894c51"
      },
      "execution_count": null,
      "outputs": [
        {
          "output_type": "stream",
          "name": "stdout",
          "text": [
            "A laranja está presente no conjunto!\n"
          ]
        }
      ]
    },
    {
      "cell_type": "code",
      "source": [
        "#5 - Crie um segundo conjunto chamado `citrus`, contendo \"laranja\", \"limão\" e \"tangerina\". Faça a união dos conjuntos `frutas` e `citrus`, criando um novo conjunto que contém todos os elementos dos dois conjuntos. Exiba o resultado dessa união.\n",
        "citrus={\"laranja\",\"limão\",\"tangerina\"}\n",
        "união=frutas.union(citrus)\n",
        "print(união)"
      ],
      "metadata": {
        "colab": {
          "base_uri": "https://localhost:8080/"
        },
        "id": "3R4mW_kMsXtI",
        "outputId": "e8b2de54-20e0-4430-f4c3-5a3ba542257c"
      },
      "execution_count": null,
      "outputs": [
        {
          "output_type": "stream",
          "name": "stdout",
          "text": [
            "{'laranja', 'morango', 'maçã', 'limão', 'uva', 'tangerina'}\n"
          ]
        }
      ]
    },
    {
      "cell_type": "code",
      "source": [
        "#6 - Usando os conjuntos `frutas` e `citrus`, encontre a interseção entre eles, ou seja, os elementos que estão presentes em ambos os conjuntos. Exiba os elementos comuns.\n",
        "inter=frutas.intersection(citrus)\n",
        "print(inter)"
      ],
      "metadata": {
        "colab": {
          "base_uri": "https://localhost:8080/"
        },
        "id": "eNSVx1Ees5Qm",
        "outputId": "f30ad58f-fc6e-4573-afab-c3d7f4d89315"
      },
      "execution_count": null,
      "outputs": [
        {
          "output_type": "stream",
          "name": "stdout",
          "text": [
            "{'laranja'}\n"
          ]
        }
      ]
    },
    {
      "cell_type": "code",
      "source": [
        "#7 - Encontre a diferença entre os conjuntos `frutas` e `citrus`, ou seja, os elementos que estão em `frutas` mas não estão em `citrus`. Exiba o resultado dessa diferença.\n",
        "dif=frutas.difference(citrus)\n",
        "print(dif)"
      ],
      "metadata": {
        "colab": {
          "base_uri": "https://localhost:8080/"
        },
        "id": "FGKnIPxdveMo",
        "outputId": "20900d19-09d3-458b-adcf-db3cf8f37b2e"
      },
      "execution_count": null,
      "outputs": [
        {
          "output_type": "stream",
          "name": "stdout",
          "text": [
            "{'maçã', 'morango', 'uva'}\n"
          ]
        }
      ]
    },
    {
      "cell_type": "code",
      "source": [
        "#8 - Esvazie completamente o conjunto `citrus` usando um método específico que remove todos os elementos de um conjunto. Verifique se o conjunto foi realmente esvaziado ao exibi-lo no console após a operação.\n",
        "citrus.clear()\n",
        "print(citrus)"
      ],
      "metadata": {
        "colab": {
          "base_uri": "https://localhost:8080/"
        },
        "id": "8NX2cWlEvrMv",
        "outputId": "72c05549-1028-4f95-cf43-59eb851a83a1"
      },
      "execution_count": null,
      "outputs": [
        {
          "output_type": "stream",
          "name": "stdout",
          "text": [
            "set()\n"
          ]
        }
      ]
    },
    {
      "cell_type": "code",
      "source": [
        "#9 - Converta o conjunto `frutas` em um conjunto imutável, ou seja, um conjunto que não pode ser alterado após sua criação. Crie esse conjunto imutável e exiba-o no console.\n",
        "imultavel=tuple(frutas)\n",
        "print(imultavel)"
      ],
      "metadata": {
        "colab": {
          "base_uri": "https://localhost:8080/"
        },
        "id": "Hkz2ZNIQwkFY",
        "outputId": "8c65744a-cfe1-4141-add0-0c5d6b3dd293"
      },
      "execution_count": null,
      "outputs": [
        {
          "output_type": "stream",
          "name": "stdout",
          "text": [
            "('laranja', 'morango', 'maçã', 'uva')\n"
          ]
        }
      ]
    },
    {
      "cell_type": "code",
      "source": [
        "#10 - Conte quantos elementos únicos existem no conjunto `frutas` e exiba o número total de elementos no console.\n",
        "print(f\"O numero de elementos unicos que existem é: {len(frutas)}\")"
      ],
      "metadata": {
        "colab": {
          "base_uri": "https://localhost:8080/"
        },
        "id": "btWais6LxTas",
        "outputId": "d45c85d1-8f88-4c3e-b559-1c3601013522"
      },
      "execution_count": null,
      "outputs": [
        {
          "output_type": "stream",
          "name": "stdout",
          "text": [
            "O numero de elementos unicos que existem é: 4\n"
          ]
        }
      ]
    }
  ]
}